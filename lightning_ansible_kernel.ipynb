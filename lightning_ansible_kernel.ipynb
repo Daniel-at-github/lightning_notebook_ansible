{
 "cells": [
  {
   "cell_type": "markdown",
   "metadata": {
    "slideshow": {
     "slide_type": "slide"
    }
   },
   "source": [
    "# Install\n",
    "\n",
    "See https://github.com/ansible/ansible-jupyter-kernel \n",
    "\n",
    "In linux:\n",
    "~~~ bash\n",
    "mkdir example\n",
    "cd example\n",
    "# Create python3 virtualenv\n",
    "python3 -m venv venv\n",
    "# Activate virtualenv\n",
    ". venv/bin/activate\n",
    "# Install jupyter notebook with ansible kernel\n",
    "pip install ansible-kernel\n",
    "# Start jupyter notebook\n",
    "jupyter-notebook \n",
    "~~~"
   ]
  },
  {
   "cell_type": "markdown",
   "metadata": {
    "slideshow": {
     "slide_type": "subslide"
    }
   },
   "source": [
    "# Example\n",
    "## Inventory"
   ]
  },
  {
   "cell_type": "code",
   "execution_count": 1,
   "metadata": {
    "slideshow": {
     "slide_type": "fragment"
    }
   },
   "outputs": [],
   "source": [
    "#inventory\n",
    "[all]\n",
    "localhost ansible_connection=local"
   ]
  },
  {
   "cell_type": "code",
   "execution_count": 2,
   "metadata": {
    "slideshow": {
     "slide_type": "subslide"
    }
   },
   "outputs": [
    {
     "name": "stdout",
     "output_type": "stream",
     "text": [
      "\n"
     ]
    }
   ],
   "source": [
    "#play\n",
    "name: Example playbook\n",
    "gather_facts: false\n",
    "hosts: all"
   ]
  },
  {
   "cell_type": "code",
   "execution_count": 3,
   "metadata": {
    "scrolled": true,
    "slideshow": {
     "slide_type": "subslide"
    }
   },
   "outputs": [
    {
     "name": "stdout",
     "output_type": "stream",
     "text": [
      "TASK [setup] *******************************************************************\n",
      "ok: [localhost] => {\n",
      "    \"censored\": \"the output has been hidden due to the fact that 'no_log: true' was specified for this result\"\n",
      "}\n"
     ]
    }
   ],
   "source": [
    "#task\n",
    "setup:\n",
    "no_log: True"
   ]
  },
  {
   "cell_type": "code",
   "execution_count": 4,
   "metadata": {
    "slideshow": {
     "slide_type": "subslide"
    }
   },
   "outputs": [
    {
     "name": "stdout",
     "output_type": "stream",
     "text": [
      "TASK [debug] *******************************************************************\n",
      "ok: [localhost] => {\n",
      "    \"ansible_facts.distribution\": \"Fedora\"\n",
      "}\n"
     ]
    }
   ],
   "source": [
    "debug:\n",
    "  var: ansible_facts.distribution"
   ]
  },
  {
   "cell_type": "code",
   "execution_count": 5,
   "metadata": {
    "slideshow": {
     "slide_type": "subslide"
    }
   },
   "outputs": [],
   "source": [
    "#template hello.j2\n",
    "{{ message }}"
   ]
  },
  {
   "cell_type": "code",
   "execution_count": 6,
   "metadata": {
    "slideshow": {
     "slide_type": "subslide"
    }
   },
   "outputs": [
    {
     "name": "stdout",
     "output_type": "stream",
     "text": [
      "TASK [Testing template] ********************************************************\n",
      "ok: [localhost] => {\n",
      "    \"checksum\": \"d376c50624938e7634000c17b9c9a977e948e5c3\", \n",
      "    \"dest\": \"/tmp/hello\", \n",
      "    \"diff\": {\n",
      "        \"after\": {\n",
      "            \"path\": \"/tmp/hello\"\n",
      "        }, \n",
      "        \"before\": {\n",
      "            \"path\": \"/tmp/hello\"\n",
      "        }\n",
      "    }, \n",
      "    \"gid\": 1000, \n",
      "    \"group\": \"dsanfab\", \n",
      "    \"mode\": \"0664\", \n",
      "    \"owner\": \"dsanfab\", \n",
      "    \"path\": \"/tmp/hello\", \n",
      "    \"secontext\": \"unconfined_u:object_r:user_tmp_t:s0\", \n",
      "    \"size\": 21, \n",
      "    \"state\": \"file\", \n",
      "    \"uid\": 1000\n",
      "}\n"
     ]
    }
   ],
   "source": [
    "#task\n",
    "name: Testing template\n",
    "vars:\n",
    "  message: Hello ansible-kernel!\n",
    "template:\n",
    "    src: hello.j2\n",
    "    dest: /tmp/hello"
   ]
  },
  {
   "cell_type": "code",
   "execution_count": 7,
   "metadata": {
    "slideshow": {
     "slide_type": "subslide"
    }
   },
   "outputs": [
    {
     "name": "stdout",
     "output_type": "stream",
     "text": [
      "TASK [shell] *******************************************************************\n",
      "changed: [localhost] => {\n",
      "    \"cmd\": \"date -Is ; cat /tmp/hello\", \n",
      "    \"delta\": \"0:00:00.003119\", \n",
      "    \"end\": \"2019-04-25 14:39:42.912208\", \n",
      "    \"rc\": 0, \n",
      "    \"start\": \"2019-04-25 14:39:42.909089\", \n",
      "    \"stderr\": \"\", \n",
      "    \"stderr_lines\": [], \n",
      "    \"stdout\": \"[see below]\", \n",
      "    \"stdout_lines\": \"[removed for clarity]\"\n",
      "}\n",
      "\n",
      "[localhost] stdout:\n",
      "2019-04-25T14:39:42+02:00\n",
      "Hello ansible-kernel!\n"
     ]
    }
   ],
   "source": [
    "#task\n",
    "shell: date -Is ; cat /tmp/hello\n",
    "register: output"
   ]
  },
  {
   "cell_type": "code",
   "execution_count": 8,
   "metadata": {
    "scrolled": true,
    "slideshow": {
     "slide_type": "subslide"
    }
   },
   "outputs": [
    {
     "name": "stdout",
     "output_type": "stream",
     "text": [
      "TASK [debug] *******************************************************************\n",
      "ok: [localhost] => {\n",
      "    \"output.stdout\": \"2019-04-25T14:39:42+02:00\\nHello ansible-kernel!\"\n",
      "}\n"
     ]
    }
   ],
   "source": [
    "# task\n",
    "debug:\n",
    "  var: output.stdout"
   ]
  },
  {
   "cell_type": "code",
   "execution_count": 9,
   "metadata": {
    "scrolled": false,
    "slideshow": {
     "slide_type": "subslide"
    }
   },
   "outputs": [
    {
     "name": "stdout",
     "output_type": "stream",
     "text": [
      "TASK [Instalar paquetes] *******************************************************\n",
      "changed: [localhost] => {\n",
      "    \"msg\": \"\", \n",
      "    \"rc\": 0, \n",
      "    \"results\": [\n",
      "        \"Group virtualization installed.\", \n",
      "        \"Installed: tmux\", \n",
      "        \"Installed: glances\", \n",
      "        \"Installed: htop\", \n",
      "        \"Installed: mlocate\", \n",
      "        \"Installed: powerline\", \n",
      "        \"Installed: tmux-powerline\", \n",
      "        \"Installed: vim-plugin-powerline\", \n",
      "        \"Installed: openssh-server\", \n",
      "        \"Installed: x2goserver\", \n",
      "        \"Installed: x2goclient\", \n",
      "        \"Installed: remmina\", \n",
      "        \"Installed: remmina-plugins-rdp\", \n",
      "        \"Installed: thunderbird\", \n",
      "        \"Installed: pidgin\", \n",
      "        \"Installed: pidgin-otr\", \n",
      "        \"Installed: vim\", \n",
      "        \"Installed: geany\", \n",
      "        \"Installed: freemind\", \n",
      "        \"Installed: java-1.8.0-openjdk\", \n",
      "        \"Installed: jortho-dictionary-es\", \n",
      "        \"Installed: hunspell-gl\", \n",
      "        \"Installed: hunspell-es\", \n",
      "        \"Installed: libreoffice-langpack-es\", \n",
      "        \"Installed: libreoffice-langpack-gl\", \n",
      "        \"Installed: meld\", \n",
      "        \"Installed: gitg\", \n",
      "        \"Installed: myrepos\", \n",
      "        \"Installed: mercurial\", \n",
      "        \"Installed: pandoc\", \n",
      "        \"Installed: nmap\", \n",
      "        \"Installed: ImageMagick\", \n",
      "        \"Installed: p7zip\", \n",
      "        \"Installed: p7zip-plugins\", \n",
      "        \"Installed: pdf-stapler\", \n",
      "        \"Installed: ddrescue\", \n",
      "        \"Installed: youtube-dl\", \n",
      "        \"Installed: ShellCheck\", \n",
      "        \"Installed: xonsh\", \n",
      "        \"Installed: screenfetch\", \n",
      "        \"Installed: inxi\", \n",
      "        \"Installed: shutter\", \n",
      "        \"Installed: toilet\", \n",
      "        \"Installed: jq\", \n",
      "        \"Installed: tilix\", \n",
      "        \"Installed: vagrant\", \n",
      "        \"Installed: retext\", \n",
      "        \"Installed: sigil\", \n",
      "        \"Installed: calibre\", \n",
      "        \"Installed: figlet\", \n",
      "        \"Installed: qmmp\", \n",
      "        \"Installed: qtile\", \n",
      "        \"Installed: x-tile\", \n",
      "        \"Installed: keepassx\", \n",
      "        \"Installed: libreoffice-langpack-es-1:6.0.7.3-1.fc28.x86_64\", \n",
      "        \"Installed: hunspell-es-DO-1:2.3-2.fc28.noarch\", \n",
      "        \"Installed: hunspell-es-PY-1:2.3-2.fc28.noarch\", \n",
      "        \"Installed: hunspell-es-1:2.3-2.fc28.noarch\", \n",
      "        \"Installed: hunspell-es-AR-1:2.3-2.fc28.noarch\", \n",
      "        \"Installed: hunspell-es-BO-1:2.3-2.fc28.noarch\", \n",
      "        \"Installed: hunspell-es-CL-1:2.3-2.fc28.noarch\", \n",
      "        \"Installed: hunspell-es-CO-1:2.3-2.fc28.noarch\", \n",
      "        \"Installed: hunspell-es-CR-1:2.3-2.fc28.noarch\", \n",
      "        \"Installed: hunspell-es-CU-1:2.3-2.fc28.noarch\", \n",
      "        \"Installed: f27-backgrounds-base-27.0.1-3.fc28.noarch\", \n",
      "        \"Installed: hunspell-es-EC-1:2.3-2.fc28.noarch\", \n",
      "        \"Installed: hunspell-es-GT-1:2.3-2.fc28.noarch\", \n",
      "        \"Installed: hunspell-es-HN-1:2.3-2.fc28.noarch\", \n",
      "        \"Installed: hunspell-es-MX-1:2.3-2.fc28.noarch\", \n",
      "        \"Installed: hunspell-es-NI-1:2.3-2.fc28.noarch\", \n",
      "        \"Installed: hunspell-es-PA-1:2.3-2.fc28.noarch\", \n",
      "        \"Installed: hunspell-es-PE-1:2.3-2.fc28.noarch\", \n",
      "        \"Installed: hunspell-es-PR-1:2.3-2.fc28.noarch\", \n",
      "        \"Installed: glances-2.11.1-2.fc28.noarch\", \n",
      "        \"Installed: hunspell-es-SV-1:2.3-2.fc28.noarch\", \n",
      "        \"Installed: hunspell-es-US-1:2.3-2.fc28.noarch\", \n",
      "        \"Installed: hunspell-es-UY-1:2.3-2.fc28.noarch\", \n",
      "        \"Installed: hunspell-es-VE-1:2.3-2.fc28.noarch\", \n",
      "        \"Installed: vagrant-2.0.2-5.fc28.noarch\", \n",
      "        \"Removed: vagrant-1:2.2.4-1.x86_64\", \n",
      "        \"Removed: f27-backgrounds-base-27.0.1-3.fc28.noarch\"\n",
      "    ]\n",
      "}\n"
     ]
    }
   ],
   "source": [
    "# task\n",
    "name: Instalar paquetes\n",
    "become: true\n",
    "dnf:\n",
    "    name:\n",
    "        # Grupos de paquetes\n",
    "        - '@Virtualization'\n",
    "        - '@mate-desktop-environment'\n",
    "        # habitual\n",
    "        - tmux\n",
    "        - glances\n",
    "        - htop\n",
    "        - mlocate\n",
    "        # prompt\n",
    "        - powerline\n",
    "        - tmux-powerline\n",
    "        - vim-plugin-powerline\n",
    "        # escritorio remoto\n",
    "        - openssh-server\n",
    "        - x2goserver\n",
    "        - x2goclient\n",
    "        - remmina\n",
    "        - remmina-plugins-rdp\n",
    "        # Internet\n",
    "        - thunderbird\n",
    "        - pidgin\n",
    "        - pidgin-otr\n",
    "        # Editores\n",
    "        - vim\n",
    "        - geany\n",
    "        - freemind\n",
    "        # Dependencia del freemind\n",
    "        - java-1.8.0-openjdk\n",
    "        # Diccionario de freemind\n",
    "        - jortho-dictionary-es\n",
    "        # Localización\n",
    "        - hunspell-gl\n",
    "        - hunspell-es\n",
    "        - libreoffice-langpack-es\n",
    "        - libreoffice-langpack-gl\n",
    "        # git\n",
    "        - meld\n",
    "        - gitg\n",
    "        - myrepos # mr\n",
    "        - mercurial\n",
    "        # util\n",
    "        - pandoc\n",
    "        - nmap\n",
    "        - ImageMagick\n",
    "        - p7zip\n",
    "        - p7zip-plugins\n",
    "        - pdf-stapler\n",
    "        - ddrescue\n",
    "        - youtube-dl\n",
    "        # shell\n",
    "        - ShellCheck\n",
    "        - xonsh\n",
    "        - screenfetch\n",
    "        # Lista hw\n",
    "        - inxi\n",
    "        - shutter\n",
    "        # Similar al antiguo banner\n",
    "        - toilet\n",
    "        - jq\n",
    "        - tilix\n",
    "        # virtualización\n",
    "        - vagrant\n",
    "        - retext\n",
    "        - sigil\n",
    "        - calibre\n",
    "        - figlet\n",
    "        - qmmp\n",
    "        - qtile\n",
    "        - x-tile\n",
    "        - keepassx\n",
    "    state: latest\n"
   ]
  },
  {
   "cell_type": "markdown",
   "metadata": {
    "slideshow": {
     "slide_type": "slide"
    }
   },
   "source": [
    "# Slides\n",
    "To generate this slides:\n",
    "~~~ bash\n",
    "jupyter nbconvert lightning_ansible_kernel.ipynb --to slides # --post serve\n",
    "~~~"
   ]
  }
 ],
 "metadata": {
  "celltoolbar": "Slideshow",
  "kernelspec": {
   "display_name": "Ansible",
   "language": "ansible",
   "name": "ansible"
  },
  "language_info": {
   "codemirror_mode": "yaml",
   "file_extension": ".yml",
   "mimetype": "text/yaml",
   "name": "ansible"
  }
 },
 "nbformat": 4,
 "nbformat_minor": 2
}
