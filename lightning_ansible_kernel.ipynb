{
 "cells": [
  {
   "cell_type": "markdown",
   "metadata": {
    "slideshow": {
     "slide_type": "slide"
    }
   },
   "source": [
    "# Install\n",
    "\n",
    "See https://github.com/ansible/ansible-jupyter-kernel \n",
    "\n",
    "In linux:\n",
    "~~~ bash\n",
    "mkdir example\n",
    "cd example\n",
    "# Create python3 virtualenv\n",
    "python3 -m venv venv\n",
    "# Activate virtualenv\n",
    ". venv/bin/activate\n",
    "# Install jupyter notebook with ansible kernel\n",
    "pip install ansible-kernel\n",
    "# Start jupyter notebook\n",
    "jupyter-notebook \n",
    "~~~"
   ]
  },
  {
   "cell_type": "markdown",
   "metadata": {
    "slideshow": {
     "slide_type": "subslide"
    }
   },
   "source": [
    "# Example\n",
    "## Inventory"
   ]
  },
  {
   "cell_type": "code",
   "execution_count": 1,
   "metadata": {
    "slideshow": {
     "slide_type": "fragment"
    }
   },
   "outputs": [],
   "source": [
    "#inventory\n",
    "[all]\n",
    "localhost ansible_connection=local"
   ]
  },
  {
   "cell_type": "code",
   "execution_count": 2,
   "metadata": {
    "slideshow": {
     "slide_type": "subslide"
    }
   },
   "outputs": [
    {
     "name": "stdout",
     "output_type": "stream",
     "text": [
      "\n"
     ]
    }
   ],
   "source": [
    "#play\n",
    "name: Example playbook\n",
    "gather_facts: false\n",
    "hosts: all"
   ]
  },
  {
   "cell_type": "code",
   "execution_count": 3,
   "metadata": {
    "scrolled": true,
    "slideshow": {
     "slide_type": "subslide"
    }
   },
   "outputs": [
    {
     "name": "stdout",
     "output_type": "stream",
     "text": [
      "TASK [setup] *******************************************************************\n",
      "ok: [localhost] => {\n",
      "    \"censored\": \"the output has been hidden due to the fact that 'no_log: true' was specified for this result\"\n",
      "}\n"
     ]
    }
   ],
   "source": [
    "#task\n",
    "setup:\n",
    "no_log: True"
   ]
  },
  {
   "cell_type": "code",
   "execution_count": 6,
   "metadata": {
    "slideshow": {
     "slide_type": "subslide"
    }
   },
   "outputs": [
    {
     "name": "stdout",
     "output_type": "stream",
     "text": [
      "TASK [debug] *******************************************************************\n",
      "ok: [localhost] => {\n",
      "    \"ansible_facts.distribution\": \"Fedora\"\n",
      "}\n"
     ]
    }
   ],
   "source": [
    "debug:\n",
    "  var: ansible_facts.distribution"
   ]
  },
  {
   "cell_type": "code",
   "execution_count": 7,
   "metadata": {
    "slideshow": {
     "slide_type": "subslide"
    }
   },
   "outputs": [
    {
     "name": "stdout",
     "output_type": "stream",
     "text": [
      "TASK [shell] *******************************************************************\n",
      "changed: [localhost] => {\n",
      "    \"cmd\": \"date -Is\", \n",
      "    \"delta\": \"0:00:00.002719\", \n",
      "    \"end\": \"2019-03-21 11:09:40.235383\", \n",
      "    \"rc\": 0, \n",
      "    \"start\": \"2019-03-21 11:09:40.232664\", \n",
      "    \"stderr\": \"\", \n",
      "    \"stderr_lines\": [], \n",
      "    \"stdout\": \"[see below]\", \n",
      "    \"stdout_lines\": \"[removed for clarity]\"\n",
      "}\n",
      "\n",
      "[localhost] stdout:\n",
      "2019-03-21T11:09:40+01:00\n"
     ]
    }
   ],
   "source": [
    "#task\n",
    "shell: date -Is\n",
    "register: output"
   ]
  },
  {
   "cell_type": "code",
   "execution_count": 11,
   "metadata": {
    "scrolled": true,
    "slideshow": {
     "slide_type": "subslide"
    }
   },
   "outputs": [
    {
     "name": "stdout",
     "output_type": "stream",
     "text": [
      "TASK [debug] *******************************************************************\n",
      "ok: [localhost] => {\n",
      "    \"output.stdout\": \"2019-03-21T11:09:40+01:00\"\n",
      "}\n"
     ]
    }
   ],
   "source": [
    "# task\n",
    "debug:\n",
    "  var: output.stdout"
   ]
  },
  {
   "cell_type": "code",
   "execution_count": 16,
   "metadata": {
    "scrolled": false,
    "slideshow": {
     "slide_type": "subslide"
    }
   },
   "outputs": [
    {
     "name": "stdout",
     "output_type": "stream",
     "text": [
      "TASK [Instalar paquetes] *******************************************************\n",
      "changed: [localhost] => {\n",
      "    \"msg\": \"\", \n",
      "    \"rc\": 0, \n",
      "    \"results\": [\n",
      "        \"Group virtualization installed.\", \n",
      "        \"Installed: tmux\", \n",
      "        \"Installed: glances\", \n",
      "        \"Installed: htop\", \n",
      "        \"Installed: mlocate\", \n",
      "        \"Installed: powerline\", \n",
      "        \"Installed: tmux-powerline\", \n",
      "        \"Installed: vim-plugin-powerline\", \n",
      "        \"Installed: openssh-server\", \n",
      "        \"Installed: x2goserver\", \n",
      "        \"Installed: x2goclient\", \n",
      "        \"Installed: remmina\", \n",
      "        \"Installed: remmina-plugins-rdp\", \n",
      "        \"Installed: thunderbird\", \n",
      "        \"Installed: pidgin\", \n",
      "        \"Installed: pidgin-otr\", \n",
      "        \"Installed: vim\", \n",
      "        \"Installed: geany\", \n",
      "        \"Installed: freemind\", \n",
      "        \"Installed: java-1.8.0-openjdk\", \n",
      "        \"Installed: jortho-dictionary-es\", \n",
      "        \"Installed: hunspell-gl\", \n",
      "        \"Installed: hunspell-es\", \n",
      "        \"Installed: libreoffice-langpack-es\", \n",
      "        \"Installed: libreoffice-langpack-gl\", \n",
      "        \"Installed: meld\", \n",
      "        \"Installed: gitg\", \n",
      "        \"Installed: myrepos\", \n",
      "        \"Installed: mercurial\", \n",
      "        \"Installed: pandoc\", \n",
      "        \"Installed: nmap\", \n",
      "        \"Installed: ImageMagick\", \n",
      "        \"Installed: p7zip\", \n",
      "        \"Installed: p7zip-plugins\", \n",
      "        \"Installed: pdf-stapler\", \n",
      "        \"Installed: ddrescue\", \n",
      "        \"Installed: youtube-dl\", \n",
      "        \"Installed: ShellCheck\", \n",
      "        \"Installed: xonsh\", \n",
      "        \"Installed: screenfetch\", \n",
      "        \"Installed: inxi\", \n",
      "        \"Installed: shutter\", \n",
      "        \"Installed: toilet\", \n",
      "        \"Installed: jq\", \n",
      "        \"Installed: tilix\", \n",
      "        \"Installed: vagrant\", \n",
      "        \"Installed: retext\", \n",
      "        \"Installed: sigil\", \n",
      "        \"Installed: calibre\", \n",
      "        \"Installed: figlet\", \n",
      "        \"Installed: qmmp\", \n",
      "        \"Installed: qtile\", \n",
      "        \"Installed: x-tile\", \n",
      "        \"Installed: keepassx\", \n",
      "        \"Installed: vagrant-2.0.2-5.fc28.noarch\", \n",
      "        \"Installed: f27-backgrounds-base-27.0.1-3.fc28.noarch\", \n",
      "        \"Installed: youtube-dl-2019.01.30-1.fc28.noarch\", \n",
      "        \"Removed: vagrant-1:2.2.4-1.x86_64\", \n",
      "        \"Removed: f27-backgrounds-base-27.0.1-3.fc28.noarch\"\n",
      "    ]\n",
      "}\n"
     ]
    }
   ],
   "source": [
    "# task\n",
    "name: Instalar paquetes\n",
    "become: true\n",
    "dnf:\n",
    "    name:\n",
    "        # Grupos de paquetes\n",
    "        - '@Virtualization'\n",
    "        - '@mate-desktop-environment'\n",
    "        # habitual\n",
    "        - tmux\n",
    "        - glances\n",
    "        - htop\n",
    "        - mlocate\n",
    "        # prompt\n",
    "        - powerline\n",
    "        - tmux-powerline\n",
    "        - vim-plugin-powerline\n",
    "        # escritorio remoto\n",
    "        - openssh-server\n",
    "        - x2goserver\n",
    "        - x2goclient\n",
    "        - remmina\n",
    "        - remmina-plugins-rdp\n",
    "        # Internet\n",
    "        - thunderbird\n",
    "        - pidgin\n",
    "        - pidgin-otr\n",
    "        # Editores\n",
    "        - vim\n",
    "        - geany\n",
    "        - freemind\n",
    "        # Dependencia del freemind\n",
    "        - java-1.8.0-openjdk\n",
    "        # Diccionario de freemind\n",
    "        - jortho-dictionary-es\n",
    "        # Localización\n",
    "        - hunspell-gl\n",
    "        - hunspell-es\n",
    "        - libreoffice-langpack-es\n",
    "        - libreoffice-langpack-gl\n",
    "        # git\n",
    "        - meld\n",
    "        - gitg\n",
    "        - myrepos # mr\n",
    "        - mercurial\n",
    "        # util\n",
    "        - pandoc\n",
    "        - nmap\n",
    "        - ImageMagick\n",
    "        - p7zip\n",
    "        - p7zip-plugins\n",
    "        - pdf-stapler\n",
    "        - ddrescue\n",
    "        - youtube-dl\n",
    "        # shell\n",
    "        - ShellCheck\n",
    "        - xonsh\n",
    "        - screenfetch\n",
    "        # Lista hw\n",
    "        - inxi\n",
    "        - shutter\n",
    "        # Similar al antiguo banner\n",
    "        - toilet\n",
    "        - jq\n",
    "        - tilix\n",
    "        # virtualización\n",
    "        - vagrant\n",
    "        - retext\n",
    "        - sigil\n",
    "        - calibre\n",
    "        - figlet\n",
    "        - qmmp\n",
    "        - qtile\n",
    "        - x-tile\n",
    "        - keepassx\n",
    "    state: latest\n"
   ]
  },
  {
   "cell_type": "markdown",
   "metadata": {
    "slideshow": {
     "slide_type": "slide"
    }
   },
   "source": [
    "# Slides\n",
    "~~~ bash\n",
    "jupyter nbconvert lightning_ansible_kernel.ipynb --to slides --post serve\n",
    "~~~"
   ]
  },
  {
   "cell_type": "code",
   "execution_count": null,
   "metadata": {},
   "outputs": [],
   "source": []
  }
 ],
 "metadata": {
  "celltoolbar": "Slideshow",
  "kernelspec": {
   "display_name": "Ansible",
   "language": "ansible",
   "name": "ansible"
  },
  "language_info": {
   "codemirror_mode": "yaml",
   "file_extension": ".yml",
   "mimetype": "text/yaml",
   "name": "ansible"
  }
 },
 "nbformat": 4,
 "nbformat_minor": 2
}
